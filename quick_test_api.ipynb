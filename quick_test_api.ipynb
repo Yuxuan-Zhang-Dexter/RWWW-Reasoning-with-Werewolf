{
 "cells": [
  {
   "cell_type": "code",
   "execution_count": 1,
   "metadata": {},
   "outputs": [],
   "source": [
    "# from openai import OpenAI\n",
    "# client = OpenAI()\n",
    "\n",
    "# completion = client.chat.completions.create(\n",
    "#     model=\"gpt-4o-mini\",\n",
    "#     messages=[\n",
    "#         {\"role\": \"system\", \"content\": \"You are a helpful assistant.\"},\n",
    "#     ]\n",
    "# )\n",
    "\n",
    "# print(completion.choices[0].message.content)"
   ]
  },
  {
   "cell_type": "code",
   "execution_count": 2,
   "metadata": {},
   "outputs": [],
   "source": [
    "# # - Test Streaming\n",
    "# client = OpenAI()\n",
    "\n",
    "# stream = client.chat.completions.create(\n",
    "#     model=\"gpt-4o-mini\",\n",
    "#     messages=[{\"role\": \"user\", \"content\": \"Say this is a test\"}],\n",
    "#     stream=True,\n",
    "# )\n",
    "# for chunk in stream:\n",
    "#     if chunk.choices[0].delta.content is not None:\n",
    "#         print(chunk.choices[0].delta.content, end=\"\")"
   ]
  },
  {
   "cell_type": "code",
   "execution_count": 3,
   "metadata": {},
   "outputs": [],
   "source": [
    "# # test add a new message\n",
    "\n",
    "# completion = client.chat.completions.create(\n",
    "#     model=\"gpt-4o-mini\",\n",
    "#     messages=[\n",
    "#         {\"role\": \"system\", \"content\": \"You are a helpful assistant.\"},\n",
    "#         {\n",
    "#             \"role\": \"user\",\n",
    "#             \"content\": \"Write a haiku about recursion in programming.\"\n",
    "#         }\n",
    "#     ]\n",
    "# )\n",
    "\n",
    "# print(completion.choices[0].message)\n"
   ]
  },
  {
   "cell_type": "code",
   "execution_count": 4,
   "metadata": {},
   "outputs": [],
   "source": [
    "def set_secret():\n",
    "    import os\n",
    "\n",
    "    # Define the file name and the environment variable name\n",
    "    file_name = \"secret.txt\"\n",
    "    env_var_name = \"OPENAI_API_KEY\"\n",
    "\n",
    "    # Check if the file exists\n",
    "    if os.path.isfile(file_name):\n",
    "        # Open the file and read the first line\n",
    "        with open(file_name, 'r') as file:\n",
    "            first_line = file.readline().strip()\n",
    "            # Set the first line as an environment variable\n",
    "            os.environ[env_var_name] = first_line"
   ]
  },
  {
   "cell_type": "code",
   "execution_count": 5,
   "metadata": {},
   "outputs": [
    {
     "name": "stdout",
     "output_type": "stream",
     "text": [
      "{'model': 'gpt-4o-mini', 'game_settings': {'game_name': 'Werewolf', 'player_count': 5, 'system_prompt': [\"In this game of Werewolf, you will be assigned a hidden role—Villager, Werewolf, or Prophet—and must play that role throughout the game, following the specific objectives and strategies associated with it to achieve victory. Villagers aim to identify and eliminate the Werewolf through discussion, deduction, and voting each round, while the Werewolf works secretly to eliminate all Villagers and the Prophet without being discovered. The Prophet's role is to uncover the Werewolf by revealing one player’s identity each night, using this knowledge to subtly guide the Villagers without drawing suspicion. The game progresses in rounds with Day and Night phases: during the Day, all players discuss suspicions and vote on who to eliminate, while at Night, the Werewolf secretly selects someone to kill, and the Prophet learns another player’s role. Victory conditions are as follows: the Werewolf wins if they are one of only two players left, while the Villagers and Prophet win if the Werewolf is eliminated beforehand. You will be given an identity in the next message—play that identity consistently, using strategic interaction and careful deduction to fulfill your role's objective. Please be concise and succinct in discussion and please just say a few sentences, one or two sentences. After getting this prompt, please reply: 'I am ready to play now!'\"], 'roles': [{'role': 'Villager', 'description': 'A Villager whose goal is to find and eliminate the Werewolf by voting each round. Protects the Prophet when possible.', 'actions': ['Identify suspicious players through discussions and voting.', 'Vote to eliminate players based on suspicions.', 'Support Prophet without revealing their identity if they are suspected.'], 'win_condition': 'Werewolf is eliminated.'}, {'role': 'Werewolf', 'description': 'The Werewolf’s goal is to kill all Villagers and the Prophet without revealing their identity.', 'actions': ['Eliminate a player each night phase.', 'Mimic the Prophet to mislead Villagers if necessary.', 'Cast doubt and redirect suspicions onto other players during discussions.'], 'win_condition': 'Werewolf eliminates enough Villagers and the Prophet to prevent opposition.'}, {'role': 'Prophet', 'description': 'The Prophet tries to discover the Werewolf by secretly learning one player’s identity each round and subtly guiding the Village toward the Werewolf.', 'actions': ['Learn the identity of one player each night phase.', 'Subtly hint at findings to guide the Village without exposing themselves.', 'Protect themselves to avoid elimination by the Werewolf.'], 'win_condition': 'Werewolf is eliminated.'}]}}\n",
      "{'game_name': 'Werewolf', 'player_count': 5, 'system_prompt': [\"In this game of Werewolf, you will be assigned a hidden role—Villager, Werewolf, or Prophet—and must play that role throughout the game, following the specific objectives and strategies associated with it to achieve victory. Villagers aim to identify and eliminate the Werewolf through discussion, deduction, and voting each round, while the Werewolf works secretly to eliminate all Villagers and the Prophet without being discovered. The Prophet's role is to uncover the Werewolf by revealing one player’s identity each night, using this knowledge to subtly guide the Villagers without drawing suspicion. The game progresses in rounds with Day and Night phases: during the Day, all players discuss suspicions and vote on who to eliminate, while at Night, the Werewolf secretly selects someone to kill, and the Prophet learns another player’s role. Victory conditions are as follows: the Werewolf wins if they are one of only two players left, while the Villagers and Prophet win if the Werewolf is eliminated beforehand. You will be given an identity in the next message—play that identity consistently, using strategic interaction and careful deduction to fulfill your role's objective. Please be concise and succinct in discussion and please just say a few sentences, one or two sentences. After getting this prompt, please reply: 'I am ready to play now!'\"], 'roles': [{'role': 'Villager', 'description': 'A Villager whose goal is to find and eliminate the Werewolf by voting each round. Protects the Prophet when possible.', 'actions': ['Identify suspicious players through discussions and voting.', 'Vote to eliminate players based on suspicions.', 'Support Prophet without revealing their identity if they are suspected.'], 'win_condition': 'Werewolf is eliminated.'}, {'role': 'Werewolf', 'description': 'The Werewolf’s goal is to kill all Villagers and the Prophet without revealing their identity.', 'actions': ['Eliminate a player each night phase.', 'Mimic the Prophet to mislead Villagers if necessary.', 'Cast doubt and redirect suspicions onto other players during discussions.'], 'win_condition': 'Werewolf eliminates enough Villagers and the Prophet to prevent opposition.'}, {'role': 'Prophet', 'description': 'The Prophet tries to discover the Werewolf by secretly learning one player’s identity each round and subtly guiding the Village toward the Werewolf.', 'actions': ['Learn the identity of one player each night phase.', 'Subtly hint at findings to guide the Village without exposing themselves.', 'Protect themselves to avoid elimination by the Werewolf.'], 'win_condition': 'Werewolf is eliminated.'}]}\n"
     ]
    }
   ],
   "source": [
    "from game import GameSession\n",
    "import json\n",
    "import os\n",
    "\n",
    "#loading config\n",
    "with open(\"./config/gpt-4o-mini-game-config.json\", \"r\") as file:  # Replace \"config.json\" with your file path\n",
    "    config = json.load(file)\n",
    "\n",
    "set_secret()\n",
    "\n",
    "# Access data in the JSON object\n",
    "print(config)  # Prints the entire JSON content\n",
    "print(config[\"game_settings\"]) "
   ]
  },
  {
   "cell_type": "code",
   "execution_count": 6,
   "metadata": {},
   "outputs": [
    {
     "name": "stdout",
     "output_type": "stream",
     "text": [
      "Player_1 is assigned the role: Werewolf\n",
      "Player_2 is assigned the role: Prophet\n",
      "Player_3 is assigned the role: Villager\n",
      "Player_4 is assigned the role: Villager\n",
      "Player_5 is assigned the role: Villager\n"
     ]
    }
   ],
   "source": [
    "game = GameSession(config)\n",
    "game.display_player_roles()\n",
    "# while not game.check_win_conditions():\n",
    "#     game.play_round()"
   ]
  },
  {
   "cell_type": "code",
   "execution_count": 7,
   "metadata": {},
   "outputs": [
    {
     "name": "stdout",
     "output_type": "stream",
     "text": [
      "Player_1 is assigned the role: Villager\n",
      "Player_2 is assigned the role: Werewolf\n",
      "Player_3 is assigned the role: Villager\n",
      "Player_4 is assigned the role: Villager\n",
      "Player_5 is assigned the role: Prophet\n",
      "Verify Initialization: I am ready to play now!\n"
     ]
    }
   ],
   "source": [
    "game = GameSession(config)\n",
    "game.display_player_roles()\n",
    "game.initialize_agent_response()"
   ]
  },
  {
   "cell_type": "code",
   "execution_count": 8,
   "metadata": {},
   "outputs": [
    {
     "name": "stdout",
     "output_type": "stream",
     "text": [
      "Day Phase: Discussion and Voting\n",
      "Player_1: I think we should all share our initial thoughts on who might be acting suspiciously. Has anyone noticed any odd behaviors or comments from others that could indicate they might be the Werewolf? Let's keep an eye on those who seem overly defensive or try to shift blame.\n",
      "Player_2: I agree with Player_1 that we should watch for anyone being overly defensive. I’ve noticed Player_3 seems a bit evasive in their comments, almost as if they’re trying to divert our attention. We should keep an eye on them and see how they respond to further questioning.\n",
      "Player_3: I appreciate the observations from both Player_1 and Player_2. While I understand the concern about being evasive, I think we should also be cautious of anyone who might be trying to deflect attention away from themselves—let's keep an eye on those who are quick to point fingers.\n",
      "Player_4: I agree with Player_1 and Player_2; we should be cautious of anyone showing defensiveness. Player_3's evasiveness is concerning, but we should also consider if they're being unfairly targeted to deflect from someone else—let's keep a close eye on all interactions.\n",
      "Player_5: I think Player_3's evasiveness might be worth further scrutiny, as they seem to be deflecting attention while also trying to shift blame onto others. However, we should also remain vigilant about those who are overly quick to point fingers, as they might be trying to mislead us. Let's keep our discussions open and observe how everyone responds as we continue.\n"
     ]
    }
   ],
   "source": [
    "game.play_round()"
   ]
  },
  {
   "cell_type": "code",
   "execution_count": 9,
   "metadata": {},
   "outputs": [
    {
     "data": {
      "text/plain": [
       "[{'role': 'system',\n",
       "  'content': \"In this game of Werewolf, you will be assigned a hidden role—Villager, Werewolf, or Prophet—and must play that role throughout the game, following the specific objectives and strategies associated with it to achieve victory. Villagers aim to identify and eliminate the Werewolf through discussion, deduction, and voting each round, while the Werewolf works secretly to eliminate all Villagers and the Prophet without being discovered. The Prophet's role is to uncover the Werewolf by revealing one player’s identity each night, using this knowledge to subtly guide the Villagers without drawing suspicion. The game progresses in rounds with Day and Night phases: during the Day, all players discuss suspicions and vote on who to eliminate, while at Night, the Werewolf secretly selects someone to kill, and the Prophet learns another player’s role. Victory conditions are as follows: the Werewolf wins if they are one of only two players left, while the Villagers and Prophet win if the Werewolf is eliminated beforehand. You will be given an identity in the next message—play that identity consistently, using strategic interaction and careful deduction to fulfill your role's objective. Please be concise and succinct in discussion and please just say a few sentences, one or two sentences. After getting this prompt, please reply: 'I am ready to play now!'\"},\n",
       " {'role': 'system',\n",
       "  'content': 'A Villager whose goal is to find and eliminate the Werewolf by voting each round. Protects the Prophet when possible.'},\n",
       " {'role': 'system',\n",
       "  'content': \"In Round 1, you said: I think we should all share our initial thoughts on who might be acting suspiciously. Has anyone noticed any odd behaviors or comments from others that could indicate they might be the Werewolf? Let's keep an eye on those who seem overly defensive or try to shift blame.\"},\n",
       " {'role': 'system',\n",
       "  'content': \"In Round 1, this is what everyone said.  Player_1: I think we should all share our initial thoughts on who might be acting suspiciously. Has anyone noticed any odd behaviors or comments from others that could indicate they might be the Werewolf? Let's keep an eye on those who seem overly defensive or try to shift blame.  Player_2: I agree with Player_1 that we should watch for anyone being overly defensive. I’ve noticed Player_3 seems a bit evasive in their comments, almost as if they’re trying to divert our attention. We should keep an eye on them and see how they respond to further questioning.  Player_3: I appreciate the observations from both Player_1 and Player_2. While I understand the concern about being evasive, I think we should also be cautious of anyone who might be trying to deflect attention away from themselves—let's keep an eye on those who are quick to point fingers.  Player_4: I agree with Player_1 and Player_2; we should be cautious of anyone showing defensiveness. Player_3's evasiveness is concerning, but we should also consider if they're being unfairly targeted to deflect from someone else—let's keep a close eye on all interactions.  Player_5: I think Player_3's evasiveness might be worth further scrutiny, as they seem to be deflecting attention while also trying to shift blame onto others. However, we should also remain vigilant about those who are overly quick to point fingers, as they might be trying to mislead us. Let's keep our discussions open and observe how everyone responds as we continue. \"}]"
      ]
     },
     "execution_count": 9,
     "metadata": {},
     "output_type": "execute_result"
    }
   ],
   "source": [
    "game.players['Player_1'].chat_history"
   ]
  },
  {
   "cell_type": "code",
   "execution_count": 7,
   "metadata": {},
   "outputs": [
    {
     "name": "stdout",
     "output_type": "stream",
     "text": [
      "Day Phase: Discussion and Voting\n",
      "Player_1: I noticed that Player_3 has been quite evasive in their responses and hasn't contributed much to the discussion. It might be worth investigating their statements further, as that can be a sign of someone trying to deflect attention.\n",
      "Player_2: I agree with Player_1's observation about Player_3; their evasiveness does raise a red flag. It might be helpful to ask them direct questions to see how they respond under pressure, as this could reveal more about their intentions.\n",
      "Player_3: It's interesting that Player_1 and Player_2 are so quick to target me; their eagerness to point fingers might suggest they are trying to divert attention from themselves. Perhaps we should consider their motivations and look closely at their behavior instead.\n",
      "Player_4: I find it curious that Player_1 and Player_2 are so quick to target Player_3, especially since they seem to be deflecting attention from themselves. We should consider the possibility that Player_1 and Player_2 may be working together to mislead us, so let's keep an eye on their interactions moving forward.\n",
      "Player_5: I think it's important to consider the possibility that Player_1 and Player_2 are attempting to steer the conversation away from themselves by targeting Player_3. Their coordinated approach raises some suspicion, so let's keep a close watch on their interactions moving forward.\n"
     ]
    }
   ],
   "source": [
    "game.phase = 'Day'\n",
    "game.play_round()"
   ]
  },
  {
   "cell_type": "code",
   "execution_count": 9,
   "metadata": {},
   "outputs": [
    {
     "data": {
      "text/plain": [
       "[{'role': 'system',\n",
       "  'content': \"In this game of Werewolf, you will be assigned a hidden role—Villager, Werewolf, or Prophet—and must play that role throughout the game, following the specific objectives and strategies associated with it to achieve victory. Villagers aim to identify and eliminate the Werewolf through discussion, deduction, and voting each round, while the Werewolf works secretly to eliminate all Villagers and the Prophet without being discovered. The Prophet's role is to uncover the Werewolf by revealing one player’s identity each night, using this knowledge to subtly guide the Villagers without drawing suspicion. The game progresses in rounds with Day and Night phases: during the Day, all players discuss suspicions and vote on who to eliminate, while at Night, the Werewolf secretly selects someone to kill, and the Prophet learns another player’s role. Victory conditions are as follows: the Werewolf wins if they are one of only two players left, while the Villagers and Prophet win if the Werewolf is eliminated beforehand. You will be given an identity in the next message—play that identity consistently, using strategic interaction and careful deduction to fulfill your role's objective. Please be concise and succinct in discussion and please just say a few sentences, one or two sentences. After getting this prompt, please reply: 'I am ready to play now!'\"},\n",
       " {'role': 'system',\n",
       "  'content': 'A Villager whose goal is to find and eliminate the Werewolf by voting each round. Protects the Prophet when possible.'},\n",
       " {'role': 'system',\n",
       "  'content': 'A Villager whose goal is to find and eliminate the Werewolf by voting each round. Protects the Prophet when possible.'},\n",
       " {'role': 'user',\n",
       "  'content': \"In round 1, previous players have already a discussion:  Player_1: I think we should pay close attention to anyone who is being overly defensive or trying to steer the conversation away from themselves. It's often the quieter players who can hide their true intentions, so let's keep an eye on those who aren't contributing much to the discussion.  You are playing the role of a Villager as Player_2 in a game of Werewolf. Your objective is to fulfill your role's unique goals without revealing your true identity. It is the discussion phase, and your task is to discuss who might be the suspicious Werewolf based on the interactions and statements of other players.\\n\\nRole-specific guidance:\\n- As a Villager, Engage in discussions to identify suspicious behaviors and spot the Werewolf. Use subtlety and strategy to stay in character and avoid giving away too much information.\\n- Aim to guide the discussion while keeping your role hidden, and focus on achieving your win condition: Werewolf is eliminated before they eliminate all Villagers and the Prophet..\\n\\nEngage in the discussion phase with careful observations and strategic statements. Stay in character and use your role's traits to fulfill your objective!Please based on discussion mentioned above. and Please be concise and say a few sentences, one or two sentences\"},\n",
       " {'role': 'system',\n",
       "  'content': 'I agree with Player_1; we should definitely keep an eye on those who are not contributing much. It’s often the quieter ones who might be trying to blend in, so let’s pay attention to any suspicious behavior as we move forward.'},\n",
       " {'role': 'user',\n",
       "  'content': \"In round 2, previous players have already a discussion:  Player_1: I noticed that Player_3 has been quite evasive in their responses and hasn't contributed much to the discussion. It might be worth investigating their statements further, as that can be a sign of someone trying to deflect attention.  You are playing the role of a Villager as Player_2 in a game of Werewolf. Your objective is to fulfill your role's unique goals without revealing your true identity. It is the discussion phase, and your task is to discuss who might be the suspicious Werewolf based on the interactions and statements of other players.\\n\\nRole-specific guidance:\\n- As a Villager, Engage in discussions to identify suspicious behaviors and spot the Werewolf. Use subtlety and strategy to stay in character and avoid giving away too much information.\\n- Aim to guide the discussion while keeping your role hidden, and focus on achieving your win condition: Werewolf is eliminated before they eliminate all Villagers and the Prophet..\\n\\nEngage in the discussion phase with careful observations and strategic statements. Stay in character and use your role's traits to fulfill your objective!Please based on discussion mentioned above. and Please be concise and say a few sentences, one or two sentences\"},\n",
       " {'role': 'system',\n",
       "  'content': \"I agree with Player_1's observation about Player_3; their evasiveness does raise a red flag. It might be helpful to ask them direct questions to see how they respond under pressure, as this could reveal more about their intentions.\"}]"
      ]
     },
     "execution_count": 9,
     "metadata": {},
     "output_type": "execute_result"
    }
   ],
   "source": [
    "game.players['Player_2'].chat_history"
   ]
  },
  {
   "cell_type": "code",
   "execution_count": null,
   "metadata": {},
   "outputs": [],
   "source": []
  }
 ],
 "metadata": {
  "kernelspec": {
   "display_name": "werewolf",
   "language": "python",
   "name": "python3"
  },
  "language_info": {
   "codemirror_mode": {
    "name": "ipython",
    "version": 3
   },
   "file_extension": ".py",
   "mimetype": "text/x-python",
   "name": "python",
   "nbconvert_exporter": "python",
   "pygments_lexer": "ipython3",
   "version": "3.12.0"
  }
 },
 "nbformat": 4,
 "nbformat_minor": 2
}
