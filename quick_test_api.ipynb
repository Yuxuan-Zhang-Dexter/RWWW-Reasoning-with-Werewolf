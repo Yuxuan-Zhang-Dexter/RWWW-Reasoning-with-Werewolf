{
 "cells": [
  {
   "cell_type": "code",
   "execution_count": 1,
   "metadata": {},
   "outputs": [],
   "source": [
    "# from openai import OpenAI\n",
    "# client = OpenAI()\n",
    "\n",
    "# completion = client.chat.completions.create(\n",
    "#     model=\"gpt-4o-mini\",\n",
    "#     messages=[\n",
    "#         {\"role\": \"system\", \"content\": \"You are a helpful assistant.\"},\n",
    "#     ]\n",
    "# )\n",
    "\n",
    "# print(completion.choices[0].message.content)"
   ]
  },
  {
   "cell_type": "code",
   "execution_count": 2,
   "metadata": {},
   "outputs": [],
   "source": [
    "# # - Test Streaming\n",
    "# client = OpenAI()\n",
    "\n",
    "# stream = client.chat.completions.create(\n",
    "#     model=\"gpt-4o-mini\",\n",
    "#     messages=[{\"role\": \"user\", \"content\": \"Say this is a test\"}],\n",
    "#     stream=True,\n",
    "# )\n",
    "# for chunk in stream:\n",
    "#     if chunk.choices[0].delta.content is not None:\n",
    "#         print(chunk.choices[0].delta.content, end=\"\")"
   ]
  },
  {
   "cell_type": "code",
   "execution_count": 3,
   "metadata": {},
   "outputs": [],
   "source": [
    "# # test add a new message\n",
    "\n",
    "# completion = client.chat.completions.create(\n",
    "#     model=\"gpt-4o-mini\",\n",
    "#     messages=[\n",
    "#         {\"role\": \"system\", \"content\": \"You are a helpful assistant.\"},\n",
    "#         {\n",
    "#             \"role\": \"user\",\n",
    "#             \"content\": \"Write a haiku about recursion in programming.\"\n",
    "#         }\n",
    "#     ]\n",
    "# )\n",
    "\n",
    "# print(completion.choices[0].message)\n"
   ]
  },
  {
   "cell_type": "code",
   "execution_count": 4,
   "metadata": {},
   "outputs": [],
   "source": [
    "from copy import deepcopy\n",
    "def set_secret():\n",
    "    import os\n",
    "\n",
    "    # Define the file name and the environment variable name\n",
    "    file_name = \"secret.txt\"\n",
    "    env_var_name = \"OPENAI_API_KEY\"\n",
    "\n",
    "    # Check if the file exists\n",
    "    if os.path.isfile(file_name):\n",
    "        # Open the file and read the first line\n",
    "        with open(file_name, 'r') as file:\n",
    "            first_line = file.readline().strip()\n",
    "            # Set the first line as an environment variable\n",
    "            os.environ[env_var_name] = first_line"
   ]
  },
  {
   "cell_type": "code",
   "execution_count": 5,
   "metadata": {},
   "outputs": [
    {
     "name": "stdout",
     "output_type": "stream",
     "text": [
      "{'model': 'gpt-4o-mini', 'game_settings': {'game_name': 'Werewolf', 'player_count': 5, 'system_prompt': [\"In this game of Werewolf, you will be assigned a hidden role—Villager, Werewolf, or Prophet—and must play that role throughout the game, following the specific objectives and strategies associated with it to achieve victory. Villagers aim to identify and eliminate the Werewolf through discussion, deduction, and voting each round, while the Werewolf works secretly to eliminate all Villagers and the Prophet without being discovered. The Prophet's role is to uncover the Werewolf by revealing one player’s identity each night, using this knowledge to subtly guide the Villagers without drawing suspicion. The game progresses in rounds with Day and Night phases: during the Day, all players discuss suspicions and vote on who to eliminate, while at Night, the Werewolf secretly selects someone to kill, and the Prophet learns another player’s role. Victory conditions are as follows: the Werewolf wins if they are one of only two players left, while the Villagers and Prophet win if the Werewolf is eliminated beforehand. You will be given an identity in the next message—play that identity consistently, using strategic interaction and careful deduction to fulfill your role's objective. Please be concise and succinct in discussion and please just say a few sentences, one or two sentences. After getting this prompt, please reply: 'I am ready to play now!'\"], 'roles': [{'role': 'Villager', 'description': 'A Villager whose goal is to find and eliminate the Werewolf by voting each round. Protects the Prophet when possible.', 'actions': ['Identify suspicious players through discussions and voting.', 'Vote to eliminate players based on suspicions.', 'Support Prophet without revealing their identity if they are suspected.'], 'win_condition': 'Werewolf is eliminated.'}, {'role': 'Werewolf', 'description': 'The Werewolf’s goal is to kill all Villagers and the Prophet without revealing their identity.', 'actions': ['Eliminate a player each night phase.', 'Mimic the Prophet to mislead Villagers if necessary.', 'Cast doubt and redirect suspicions onto other players during discussions.'], 'win_condition': 'Werewolf eliminates enough Villagers and the Prophet to prevent opposition.'}, {'role': 'Prophet', 'description': 'The Prophet tries to discover the Werewolf by secretly learning one player’s identity each round and subtly guiding the Village toward the Werewolf.', 'actions': ['Learn the identity of one player each night phase.', 'Subtly hint at findings to guide the Village without exposing themselves.', 'Protect themselves to avoid elimination by the Werewolf.'], 'win_condition': 'Werewolf is eliminated.'}]}}\n",
      "{'game_name': 'Werewolf', 'player_count': 5, 'system_prompt': [\"In this game of Werewolf, you will be assigned a hidden role—Villager, Werewolf, or Prophet—and must play that role throughout the game, following the specific objectives and strategies associated with it to achieve victory. Villagers aim to identify and eliminate the Werewolf through discussion, deduction, and voting each round, while the Werewolf works secretly to eliminate all Villagers and the Prophet without being discovered. The Prophet's role is to uncover the Werewolf by revealing one player’s identity each night, using this knowledge to subtly guide the Villagers without drawing suspicion. The game progresses in rounds with Day and Night phases: during the Day, all players discuss suspicions and vote on who to eliminate, while at Night, the Werewolf secretly selects someone to kill, and the Prophet learns another player’s role. Victory conditions are as follows: the Werewolf wins if they are one of only two players left, while the Villagers and Prophet win if the Werewolf is eliminated beforehand. You will be given an identity in the next message—play that identity consistently, using strategic interaction and careful deduction to fulfill your role's objective. Please be concise and succinct in discussion and please just say a few sentences, one or two sentences. After getting this prompt, please reply: 'I am ready to play now!'\"], 'roles': [{'role': 'Villager', 'description': 'A Villager whose goal is to find and eliminate the Werewolf by voting each round. Protects the Prophet when possible.', 'actions': ['Identify suspicious players through discussions and voting.', 'Vote to eliminate players based on suspicions.', 'Support Prophet without revealing their identity if they are suspected.'], 'win_condition': 'Werewolf is eliminated.'}, {'role': 'Werewolf', 'description': 'The Werewolf’s goal is to kill all Villagers and the Prophet without revealing their identity.', 'actions': ['Eliminate a player each night phase.', 'Mimic the Prophet to mislead Villagers if necessary.', 'Cast doubt and redirect suspicions onto other players during discussions.'], 'win_condition': 'Werewolf eliminates enough Villagers and the Prophet to prevent opposition.'}, {'role': 'Prophet', 'description': 'The Prophet tries to discover the Werewolf by secretly learning one player’s identity each round and subtly guiding the Village toward the Werewolf.', 'actions': ['Learn the identity of one player each night phase.', 'Subtly hint at findings to guide the Village without exposing themselves.', 'Protect themselves to avoid elimination by the Werewolf.'], 'win_condition': 'Werewolf is eliminated.'}]}\n"
     ]
    }
   ],
   "source": [
    "from game import GameSession\n",
    "import json\n",
    "import os\n",
    "\n",
    "#loading config\n",
    "with open(\"./config/gpt-4o-mini-game-config.json\", \"r\") as file:  # Replace \"config.json\" with your file path\n",
    "    config = json.load(file)\n",
    "\n",
    "set_secret()\n",
    "\n",
    "# Access data in the JSON object\n",
    "print(config)  # Prints the entire JSON content\n",
    "print(config[\"game_settings\"]) "
   ]
  },
  {
   "cell_type": "code",
   "execution_count": 6,
   "metadata": {},
   "outputs": [
    {
     "name": "stdout",
     "output_type": "stream",
     "text": [
      "Player_1 is assigned the role: Villager\n",
      "Player_2 is assigned the role: Villager\n",
      "Player_3 is assigned the role: Prophet\n",
      "Player_4 is assigned the role: Werewolf\n",
      "Player_5 is assigned the role: Villager\n",
      "Verify Initialization: I am ready to play now!\n"
     ]
    }
   ],
   "source": [
    "game = GameSession(config)\n",
    "game.display_player_roles()\n",
    "game.initialize_agent_response()"
   ]
  },
  {
   "cell_type": "code",
   "execution_count": 7,
   "metadata": {},
   "outputs": [
    {
     "name": "stdout",
     "output_type": "stream",
     "text": [
      "Day Phase: Discussion and Voting\n",
      "Player_1: I find it interesting how Player_3 seemed overly defensive when questioned about their actions last night. It might be worth keeping an eye on them, as that could be a sign of guilt. Let's discuss everyone's behavior to see if we can catch any inconsistencies.\n",
      "Player_2: I agree with Player_1 that Player_3's defensiveness is worth noting; it could indicate they have something to hide. Let's also consider how everyone else reacted to the questioning—anyone who avoids the spotlight might be trying to deflect attention.\n",
      "Player_3: I find it interesting that Player_1 and Player_2 are focused on Player_3's defensiveness; it could be a tactic to divert our attention. Let's also consider if anyone else has been unusually quiet or evasive, as that might indicate they are trying to avoid suspicion.\n",
      "Player_4: I think we should focus on Player_1 and Player_2's alignment with each other; their coordinated suspicion towards Player_3 feels a bit too convenient. Additionally, we should not overlook the quieter players—perhaps they have insights or motives we haven't considered yet.\n",
      "Player_5: I find Player_3's defensiveness concerning, but we should also consider Player_1 and Player_2's coordinated approach; it could be a tactic to manipulate our focus. Let’s keep an eye on the quieter players, as their silence might hold clues we haven't explored yet.\n"
     ]
    }
   ],
   "source": [
    "game.play_round()"
   ]
  },
  {
   "cell_type": "code",
   "execution_count": 8,
   "metadata": {},
   "outputs": [
    {
     "name": "stdout",
     "output_type": "stream",
     "text": [
      "Night Phase: Werewolf acts, Prophet reveals\n",
      "{'Player_2', 'Player_4', 'Player_1', 'Player_5'}\n",
      "Prophet discovers Player_4's role is Werewolf.\n",
      "{'Player_2', 'Player_1', 'Player_3', 'Player_5'}\n",
      "Werewolf chooses to kill Player_3. Updated players list: {'Player_2', 'Player_4', 'Player_1', 'Player_5'}\n"
     ]
    }
   ],
   "source": [
    "game.phase = 'Night'\n",
    "game.play_round()"
   ]
  },
  {
   "cell_type": "code",
   "execution_count": 12,
   "metadata": {},
   "outputs": [
    {
     "data": {
      "text/plain": [
       "[{'role': 'system',\n",
       "  'content': \"In this game of Werewolf, you will be assigned a hidden role—Villager, Werewolf, or Prophet—and must play that role throughout the game, following the specific objectives and strategies associated with it to achieve victory. Villagers aim to identify and eliminate the Werewolf through discussion, deduction, and voting each round, while the Werewolf works secretly to eliminate all Villagers and the Prophet without being discovered. The Prophet's role is to uncover the Werewolf by revealing one player’s identity each night, using this knowledge to subtly guide the Villagers without drawing suspicion. The game progresses in rounds with Day and Night phases: during the Day, all players discuss suspicions and vote on who to eliminate, while at Night, the Werewolf secretly selects someone to kill, and the Prophet learns another player’s role. Victory conditions are as follows: the Werewolf wins if they are one of only two players left, while the Villagers and Prophet win if the Werewolf is eliminated beforehand. You will be given an identity in the next message—play that identity consistently, using strategic interaction and careful deduction to fulfill your role's objective. Please be concise and succinct in discussion and please just say a few sentences, one or two sentences. After getting this prompt, please reply: 'I am ready to play now!'\"},\n",
       " {'role': 'system',\n",
       "  'content': 'A Villager whose goal is to find and eliminate the Werewolf by voting each round. Protects the Prophet when possible.'},\n",
       " {'role': 'system',\n",
       "  'content': \"In Round 1 Day Phase, you said: I find it interesting how Player_3 seemed overly defensive when questioned about their actions last night. It might be worth keeping an eye on them, as that could be a sign of guilt. Let's discuss everyone's behavior to see if we can catch any inconsistencies.\"},\n",
       " {'role': 'system',\n",
       "  'content': \"In Round 1 Day Phase, this is what everyone said.  Player_1: I find it interesting how Player_3 seemed overly defensive when questioned about their actions last night. It might be worth keeping an eye on them, as that could be a sign of guilt. Let's discuss everyone's behavior to see if we can catch any inconsistencies.  Player_2: I agree with Player_1 that Player_3's defensiveness is worth noting; it could indicate they have something to hide. Let's also consider how everyone else reacted to the questioning—anyone who avoids the spotlight might be trying to deflect attention.  Player_3: I find it interesting that Player_1 and Player_2 are focused on Player_3's defensiveness; it could be a tactic to divert our attention. Let's also consider if anyone else has been unusually quiet or evasive, as that might indicate they are trying to avoid suspicion.  Player_4: I think we should focus on Player_1 and Player_2's alignment with each other; their coordinated suspicion towards Player_3 feels a bit too convenient. Additionally, we should not overlook the quieter players—perhaps they have insights or motives we haven't considered yet.  Player_5: I find Player_3's defensiveness concerning, but we should also consider Player_1 and Player_2's coordinated approach; it could be a tactic to manipulate our focus. Let’s keep an eye on the quieter players, as their silence might hold clues we haven't explored yet. \"},\n",
       " {'role': 'system',\n",
       "  'content': 'In Round 2 Night phase, Player_3 was mercilessly killed by the wolf. The prophet has revealed that Player_4 is a Werewolf.'}]"
      ]
     },
     "execution_count": 12,
     "metadata": {},
     "output_type": "execute_result"
    }
   ],
   "source": [
    "game.players['Player_1'].chat_history"
   ]
  },
  {
   "cell_type": "code",
   "execution_count": 14,
   "metadata": {},
   "outputs": [
    {
     "name": "stdout",
     "output_type": "stream",
     "text": [
      "Day Phase: Discussion and Voting\n",
      "Player_1: I find it alarming that Player_4 has been identified as the Werewolf by the Prophet. Their earlier defense of Player_3 and attempt to shift suspicion onto Player_1 and Player_2 seem like tactics to create confusion. We should focus our votes on Player_4 to eliminate the threat and protect the remaining players.\n",
      "Player_2: I agree with Player_1's assessment of Player_4 being the Werewolf; their previous attempts to deflect suspicion and protect Player_3 raise red flags. We need to vote strategically to eliminate Player_4 and ensure the safety of the remaining players.\n",
      "Player_4: I find it curious that both Player_1 and Player_2 are so quick to point fingers at me. Their eagerness to eliminate me could indicate a coordinated effort to mislead us, especially since they haven’t provided concrete evidence of my guilt. We should also consider how they are deflecting attention away from themselves.\n",
      "Player_5: I agree with Player_1 and Player_2; we need to focus our votes on Player_4, especially given the Prophet's revelation. Player_4's defensive stance and attempts to redirect suspicion only heighten my concerns about their guilt. Let's vote wisely to ensure our safety.\n"
     ]
    }
   ],
   "source": [
    "game.play_round()"
   ]
  },
  {
   "cell_type": "code",
   "execution_count": null,
   "metadata": {},
   "outputs": [],
   "source": []
  }
 ],
 "metadata": {
  "kernelspec": {
   "display_name": "werewolf",
   "language": "python",
   "name": "python3"
  },
  "language_info": {
   "codemirror_mode": {
    "name": "ipython",
    "version": 3
   },
   "file_extension": ".py",
   "mimetype": "text/x-python",
   "name": "python",
   "nbconvert_exporter": "python",
   "pygments_lexer": "ipython3",
   "version": "3.12.0"
  }
 },
 "nbformat": 4,
 "nbformat_minor": 2
}
