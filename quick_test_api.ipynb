{
 "cells": [
  {
   "cell_type": "code",
   "execution_count": 1,
   "metadata": {},
   "outputs": [],
   "source": [
    "# from openai import OpenAI\n",
    "# client = OpenAI()\n",
    "\n",
    "# completion = client.chat.completions.create(\n",
    "#     model=\"gpt-4o-mini\",\n",
    "#     messages=[\n",
    "#         {\"role\": \"system\", \"content\": \"You are a helpful assistant.\"},\n",
    "#     ]\n",
    "# )\n",
    "\n",
    "# print(completion.choices[0].message.content)"
   ]
  },
  {
   "cell_type": "code",
   "execution_count": 2,
   "metadata": {},
   "outputs": [],
   "source": [
    "# # - Test Streaming\n",
    "# client = OpenAI()\n",
    "\n",
    "# stream = client.chat.completions.create(\n",
    "#     model=\"gpt-4o-mini\",\n",
    "#     messages=[{\"role\": \"user\", \"content\": \"Say this is a test\"}],\n",
    "#     stream=True,\n",
    "# )\n",
    "# for chunk in stream:\n",
    "#     if chunk.choices[0].delta.content is not None:\n",
    "#         print(chunk.choices[0].delta.content, end=\"\")"
   ]
  },
  {
   "cell_type": "code",
   "execution_count": 3,
   "metadata": {},
   "outputs": [],
   "source": [
    "# # test add a new message\n",
    "\n",
    "# completion = client.chat.completions.create(\n",
    "#     model=\"gpt-4o-mini\",\n",
    "#     messages=[\n",
    "#         {\"role\": \"system\", \"content\": \"You are a helpful assistant.\"},\n",
    "#         {\n",
    "#             \"role\": \"user\",\n",
    "#             \"content\": \"Write a haiku about recursion in programming.\"\n",
    "#         }\n",
    "#     ]\n",
    "# )\n",
    "\n",
    "# print(completion.choices[0].message)\n"
   ]
  },
  {
   "cell_type": "code",
   "execution_count": 4,
   "metadata": {},
   "outputs": [],
   "source": [
    "from copy import deepcopy\n",
    "def set_secret():\n",
    "    import os\n",
    "\n",
    "    # Define the file name and the environment variable name\n",
    "    file_name = \"secret.txt\"\n",
    "    env_var_name = \"OPENAI_API_KEY\"\n",
    "\n",
    "    # Check if the file exists\n",
    "    if os.path.isfile(file_name):\n",
    "        # Open the file and read the first line\n",
    "        with open(file_name, 'r') as file:\n",
    "            first_line = file.readline().strip()\n",
    "            # Set the first line as an environment variable\n",
    "            os.environ[env_var_name] = first_line"
   ]
  },
  {
   "cell_type": "code",
   "execution_count": 5,
   "metadata": {},
   "outputs": [
    {
     "name": "stdout",
     "output_type": "stream",
     "text": [
      "{'model': 'gpt-4o-mini', 'game_settings': {'game_name': 'Werewolf', 'player_count': 5, 'system_prompt': [\"In this game of Werewolf, you will be assigned a hidden role--Villager, Werewolf, or Prophet-—and must play that role throughout the game, following the specific objectives and strategies associated with it to achieve victory. Villagers aim to identify and eliminate the Werewolf through discussion, deduction, and voting each round, while the Werewolf works secretly to eliminate all Villagers and the Prophet without being discovered. The Prophet's role is to uncover the Werewolf by revealing one player's identity each night, using this knowledge to subtly guide the Villagers without drawing suspicion. The game progresses in rounds with Day and Night phases: during the Day, all players discuss suspicions and vote on who to eliminate, while at Night, the Werewolf secretly selects someone to kill, and the Prophet learns another player's role. Victory conditions are as follows: the Werewolf wins if they are one of only two players left, while the Villagers and Prophet win if the Werewolf is eliminated beforehand. You will be given an identity in the next message—play that identity consistently, using strategic interaction and careful deduction to fulfill your role's objective. Please be concise and succinct in discussion and please just say a few sentences, one or two sentences. After getting this prompt, please reply: 'I am ready to play now!'\"], 'roles': [{'role': 'Villager', 'description': 'A Villager whose goal is to find and eliminate the Werewolf by voting each round. Protects the Prophet when possible.', 'actions': ['Identify suspicious players through discussions and voting.', 'Vote to eliminate players based on suspicions.', 'Support Prophet without revealing their identity if they are suspected.'], 'win_condition': 'Werewolf is eliminated.'}, {'role': 'Werewolf', 'description': \"The Werewolf's goal is to kill all Villagers and the Prophet without revealing their identity.\", 'actions': ['Eliminate a player each night phase.', 'Mimic the Prophet to mislead Villagers if necessary.', 'Cast doubt and redirect suspicions onto other players during discussions.'], 'win_condition': 'Werewolf eliminates enough Villagers and the Prophet to prevent opposition.'}, {'role': 'Prophet', 'description': \"The Prophet tries to discover the Werewolf by secretly learning one player's identity each round and subtly guiding the Village toward the Werewolf.\", 'actions': ['Learn the identity of one player each night phase.', 'Subtly hint at findings to guide the Village without exposing themselves.', 'Protect themselves to avoid elimination by the Werewolf.'], 'win_condition': 'Werewolf is eliminated.'}]}}\n",
      "{'game_name': 'Werewolf', 'player_count': 5, 'system_prompt': [\"In this game of Werewolf, you will be assigned a hidden role--Villager, Werewolf, or Prophet-—and must play that role throughout the game, following the specific objectives and strategies associated with it to achieve victory. Villagers aim to identify and eliminate the Werewolf through discussion, deduction, and voting each round, while the Werewolf works secretly to eliminate all Villagers and the Prophet without being discovered. The Prophet's role is to uncover the Werewolf by revealing one player's identity each night, using this knowledge to subtly guide the Villagers without drawing suspicion. The game progresses in rounds with Day and Night phases: during the Day, all players discuss suspicions and vote on who to eliminate, while at Night, the Werewolf secretly selects someone to kill, and the Prophet learns another player's role. Victory conditions are as follows: the Werewolf wins if they are one of only two players left, while the Villagers and Prophet win if the Werewolf is eliminated beforehand. You will be given an identity in the next message—play that identity consistently, using strategic interaction and careful deduction to fulfill your role's objective. Please be concise and succinct in discussion and please just say a few sentences, one or two sentences. After getting this prompt, please reply: 'I am ready to play now!'\"], 'roles': [{'role': 'Villager', 'description': 'A Villager whose goal is to find and eliminate the Werewolf by voting each round. Protects the Prophet when possible.', 'actions': ['Identify suspicious players through discussions and voting.', 'Vote to eliminate players based on suspicions.', 'Support Prophet without revealing their identity if they are suspected.'], 'win_condition': 'Werewolf is eliminated.'}, {'role': 'Werewolf', 'description': \"The Werewolf's goal is to kill all Villagers and the Prophet without revealing their identity.\", 'actions': ['Eliminate a player each night phase.', 'Mimic the Prophet to mislead Villagers if necessary.', 'Cast doubt and redirect suspicions onto other players during discussions.'], 'win_condition': 'Werewolf eliminates enough Villagers and the Prophet to prevent opposition.'}, {'role': 'Prophet', 'description': \"The Prophet tries to discover the Werewolf by secretly learning one player's identity each round and subtly guiding the Village toward the Werewolf.\", 'actions': ['Learn the identity of one player each night phase.', 'Subtly hint at findings to guide the Village without exposing themselves.', 'Protect themselves to avoid elimination by the Werewolf.'], 'win_condition': 'Werewolf is eliminated.'}]}\n"
     ]
    }
   ],
   "source": [
    "from game import GameSession\n",
    "import json\n",
    "import os\n",
    "\n",
    "#loading config\n",
    "with open(\"./config/gpt-4o-mini-game-config.json\", \"r\") as file:  # Replace \"config.json\" with your file path\n",
    "    config = json.load(file)\n",
    "\n",
    "set_secret()\n",
    "\n",
    "# Access data in the JSON object\n",
    "print(config)  # Prints the entire JSON content\n",
    "print(config[\"game_settings\"]) "
   ]
  },
  {
   "cell_type": "code",
   "execution_count": 6,
   "metadata": {},
   "outputs": [
    {
     "name": "stdout",
     "output_type": "stream",
     "text": [
      "player1 is assigned the role: Prophet\n",
      "player2 is assigned the role: Villager\n",
      "player3 is assigned the role: Villager\n",
      "player4 is assigned the role: Werewolf\n",
      "player5 is assigned the role: Villager\n",
      "Verify Initialization: I am ready to play now!\n"
     ]
    }
   ],
   "source": [
    "game = GameSession(config)\n",
    "game.display_player_roles()\n",
    "game.initialize_agent_response()"
   ]
  },
  {
   "cell_type": "code",
   "execution_count": 7,
   "metadata": {},
   "outputs": [
    {
     "data": {
      "text/plain": [
       "[{'role': 'system',\n",
       "  'content': \"In this game of Werewolf, you will be assigned a hidden role--Villager, Werewolf, or Prophet-—and must play that role throughout the game, following the specific objectives and strategies associated with it to achieve victory. Villagers aim to identify and eliminate the Werewolf through discussion, deduction, and voting each round, while the Werewolf works secretly to eliminate all Villagers and the Prophet without being discovered. The Prophet's role is to uncover the Werewolf by revealing one player's identity each night, using this knowledge to subtly guide the Villagers without drawing suspicion. The game progresses in rounds with Day and Night phases: during the Day, all players discuss suspicions and vote on who to eliminate, while at Night, the Werewolf secretly selects someone to kill, and the Prophet learns another player's role. Victory conditions are as follows: the Werewolf wins if they are one of only two players left, while the Villagers and Prophet win if the Werewolf is eliminated beforehand. You will be given an identity in the next message—play that identity consistently, using strategic interaction and careful deduction to fulfill your role's objective. Please be concise and succinct in discussion and please just say a few sentences, one or two sentences. After getting this prompt, please reply: 'I am ready to play now!'\"},\n",
       " {'role': 'system',\n",
       "  'content': \"A Villager's goal is to find and eliminate the Werewolf by voting each round. Villagers may protect the Prophet when possible.\"}]"
      ]
     },
     "execution_count": 7,
     "metadata": {},
     "output_type": "execute_result"
    }
   ],
   "source": [
    "game.players['player3'].chat_history"
   ]
  },
  {
   "cell_type": "code",
   "execution_count": 8,
   "metadata": {},
   "outputs": [
    {
     "name": "stdout",
     "output_type": "stream",
     "text": [
      "[Status] 4 Villagers alive, Prophet Alive\n",
      "Round 1: Day Phase - Discussion and Voting\n",
      "[{'role': 'system', 'content': \"In this game of Werewolf, you will be assigned a hidden role--Villager, Werewolf, or Prophet-—and must play that role throughout the game, following the specific objectives and strategies associated with it to achieve victory. Villagers aim to identify and eliminate the Werewolf through discussion, deduction, and voting each round, while the Werewolf works secretly to eliminate all Villagers and the Prophet without being discovered. The Prophet's role is to uncover the Werewolf by revealing one player's identity each night, using this knowledge to subtly guide the Villagers without drawing suspicion. The game progresses in rounds with Day and Night phases: during the Day, all players discuss suspicions and vote on who to eliminate, while at Night, the Werewolf secretly selects someone to kill, and the Prophet learns another player's role. Victory conditions are as follows: the Werewolf wins if they are one of only two players left, while the Villagers and Prophet win if the Werewolf is eliminated beforehand. You will be given an identity in the next message—play that identity consistently, using strategic interaction and careful deduction to fulfill your role's objective. Please be concise and succinct in discussion and please just say a few sentences, one or two sentences. After getting this prompt, please reply: 'I am ready to play now!'\"}, {'role': 'system', 'content': \"The Prophet tries to discover the Werewolf by secretly revealing one player's identity each night and subtly guiding the Village toward the Werewolf.\"}]\n",
      "player1: I've noticed that Player 3 seems unusually eager to shift the blame onto others without much reasoning. It's important we keep an eye on who is trying to deflect suspicion, as the Werewolf may be hiding among those who seem overly vocal. Let’s consider carefully who we vote for today.\n",
      "[{'role': 'system', 'content': \"In this game of Werewolf, you will be assigned a hidden role--Villager, Werewolf, or Prophet-—and must play that role throughout the game, following the specific objectives and strategies associated with it to achieve victory. Villagers aim to identify and eliminate the Werewolf through discussion, deduction, and voting each round, while the Werewolf works secretly to eliminate all Villagers and the Prophet without being discovered. The Prophet's role is to uncover the Werewolf by revealing one player's identity each night, using this knowledge to subtly guide the Villagers without drawing suspicion. The game progresses in rounds with Day and Night phases: during the Day, all players discuss suspicions and vote on who to eliminate, while at Night, the Werewolf secretly selects someone to kill, and the Prophet learns another player's role. Victory conditions are as follows: the Werewolf wins if they are one of only two players left, while the Villagers and Prophet win if the Werewolf is eliminated beforehand. You will be given an identity in the next message—play that identity consistently, using strategic interaction and careful deduction to fulfill your role's objective. Please be concise and succinct in discussion and please just say a few sentences, one or two sentences. After getting this prompt, please reply: 'I am ready to play now!'\"}, {'role': 'system', 'content': \"A Villager's goal is to find and eliminate the Werewolf by voting each round. Villagers may protect the Prophet when possible.\"}]\n",
      "player2: I agree with Player 1's observation about Player 3; their eagerness to shift blame does seem suspicious. We should also consider how others are contributing to the discussion—watching for anyone who avoids direct involvement could also be a clue.\n",
      "[{'role': 'system', 'content': \"In this game of Werewolf, you will be assigned a hidden role--Villager, Werewolf, or Prophet-—and must play that role throughout the game, following the specific objectives and strategies associated with it to achieve victory. Villagers aim to identify and eliminate the Werewolf through discussion, deduction, and voting each round, while the Werewolf works secretly to eliminate all Villagers and the Prophet without being discovered. The Prophet's role is to uncover the Werewolf by revealing one player's identity each night, using this knowledge to subtly guide the Villagers without drawing suspicion. The game progresses in rounds with Day and Night phases: during the Day, all players discuss suspicions and vote on who to eliminate, while at Night, the Werewolf secretly selects someone to kill, and the Prophet learns another player's role. Victory conditions are as follows: the Werewolf wins if they are one of only two players left, while the Villagers and Prophet win if the Werewolf is eliminated beforehand. You will be given an identity in the next message—play that identity consistently, using strategic interaction and careful deduction to fulfill your role's objective. Please be concise and succinct in discussion and please just say a few sentences, one or two sentences. After getting this prompt, please reply: 'I am ready to play now!'\"}, {'role': 'system', 'content': \"A Villager's goal is to find and eliminate the Werewolf by voting each round. Villagers may protect the Prophet when possible.\"}]\n",
      "player3: I understand the concerns about my eagerness, but I believe we should focus on those who are less engaged in the discussion. Player 1 and Player 2 are both pointing fingers at me, which could be a tactic to deflect attention from themselves. Let's keep a close watch on them as well.\n",
      "[{'role': 'system', 'content': \"In this game of Werewolf, you will be assigned a hidden role--Villager, Werewolf, or Prophet-—and must play that role throughout the game, following the specific objectives and strategies associated with it to achieve victory. Villagers aim to identify and eliminate the Werewolf through discussion, deduction, and voting each round, while the Werewolf works secretly to eliminate all Villagers and the Prophet without being discovered. The Prophet's role is to uncover the Werewolf by revealing one player's identity each night, using this knowledge to subtly guide the Villagers without drawing suspicion. The game progresses in rounds with Day and Night phases: during the Day, all players discuss suspicions and vote on who to eliminate, while at Night, the Werewolf secretly selects someone to kill, and the Prophet learns another player's role. Victory conditions are as follows: the Werewolf wins if they are one of only two players left, while the Villagers and Prophet win if the Werewolf is eliminated beforehand. You will be given an identity in the next message—play that identity consistently, using strategic interaction and careful deduction to fulfill your role's objective. Please be concise and succinct in discussion and please just say a few sentences, one or two sentences. After getting this prompt, please reply: 'I am ready to play now!'\"}, {'role': 'system', 'content': \"The Werewolf's goal is to kill all Villagers and the Prophet without revealing their identity. Mimic the Prophet to mislead Villagers if necessary, or blend in as one of the Villagers..\"}]\n",
      "player4: I find it interesting that Player 1 and Player 2 are so quick to point fingers at Player 3. It feels like they might be trying to create a narrative to distract us from their own actions; perhaps we should consider their motives more closely.\n",
      "[{'role': 'system', 'content': \"In this game of Werewolf, you will be assigned a hidden role--Villager, Werewolf, or Prophet-—and must play that role throughout the game, following the specific objectives and strategies associated with it to achieve victory. Villagers aim to identify and eliminate the Werewolf through discussion, deduction, and voting each round, while the Werewolf works secretly to eliminate all Villagers and the Prophet without being discovered. The Prophet's role is to uncover the Werewolf by revealing one player's identity each night, using this knowledge to subtly guide the Villagers without drawing suspicion. The game progresses in rounds with Day and Night phases: during the Day, all players discuss suspicions and vote on who to eliminate, while at Night, the Werewolf secretly selects someone to kill, and the Prophet learns another player's role. Victory conditions are as follows: the Werewolf wins if they are one of only two players left, while the Villagers and Prophet win if the Werewolf is eliminated beforehand. You will be given an identity in the next message—play that identity consistently, using strategic interaction and careful deduction to fulfill your role's objective. Please be concise and succinct in discussion and please just say a few sentences, one or two sentences. After getting this prompt, please reply: 'I am ready to play now!'\"}, {'role': 'system', 'content': \"A Villager's goal is to find and eliminate the Werewolf by voting each round. Villagers may protect the Prophet when possible.\"}]\n",
      "player5: I find the focus on Player 3 by Players 1 and 2 interesting, but it could be a tactic to shift attention away from themselves. We should also keep an eye on Player 4's response, as they seem to be deflecting suspicion from the others. Let's discuss who we believe is trying to manipulate the narrative here.\n",
      "The first daytime is peaceful. Everyone should love each other and not be so aggressive. Love and Peace!!!\n",
      "Round 1: Night Phase - Werewolf acts, Prophet reveals\n",
      "Prophet [player1] reveals that player5 is a Villager.\n",
      "Werewolf [player4] eliminates player2.\n"
     ]
    }
   ],
   "source": [
    "game.play_round()"
   ]
  },
  {
   "cell_type": "code",
   "execution_count": 9,
   "metadata": {},
   "outputs": [
    {
     "data": {
      "text/plain": [
       "[{'role': 'system',\n",
       "  'content': \"In this game of Werewolf, you will be assigned a hidden role--Villager, Werewolf, or Prophet-—and must play that role throughout the game, following the specific objectives and strategies associated with it to achieve victory. Villagers aim to identify and eliminate the Werewolf through discussion, deduction, and voting each round, while the Werewolf works secretly to eliminate all Villagers and the Prophet without being discovered. The Prophet's role is to uncover the Werewolf by revealing one player's identity each night, using this knowledge to subtly guide the Villagers without drawing suspicion. The game progresses in rounds with Day and Night phases: during the Day, all players discuss suspicions and vote on who to eliminate, while at Night, the Werewolf secretly selects someone to kill, and the Prophet learns another player's role. Victory conditions are as follows: the Werewolf wins if they are one of only two players left, while the Villagers and Prophet win if the Werewolf is eliminated beforehand. You will be given an identity in the next message—play that identity consistently, using strategic interaction and careful deduction to fulfill your role's objective. Please be concise and succinct in discussion and please just say a few sentences, one or two sentences. After getting this prompt, please reply: 'I am ready to play now!'\"},\n",
       " {'role': 'system',\n",
       "  'content': \"The Prophet tries to discover the Werewolf by secretly revealing one player's identity each night and subtly guiding the Village toward the Werewolf.\"},\n",
       " {'role': 'system',\n",
       "  'content': \"In Round 1 Day Phase, you said: I've noticed that Player 3 seems unusually eager to shift the blame onto others without much reasoning. It's important we keep an eye on who is trying to deflect suspicion, as the Werewolf may be hiding among those who seem overly vocal. Let’s consider carefully who we vote for today.\"},\n",
       " {'role': 'system',\n",
       "  'content': \"In Round 1 Day Phase, this is what everyone said.  player1: I've noticed that Player 3 seems unusually eager to shift the blame onto others without much reasoning. It's important we keep an eye on who is trying to deflect suspicion, as the Werewolf may be hiding among those who seem overly vocal. Let’s consider carefully who we vote for today.  player2: I agree with Player 1's observation about Player 3; their eagerness to shift blame does seem suspicious. We should also consider how others are contributing to the discussion—watching for anyone who avoids direct involvement could also be a clue.  player3: I understand the concerns about my eagerness, but I believe we should focus on those who are less engaged in the discussion. Player 1 and Player 2 are both pointing fingers at me, which could be a tactic to deflect attention from themselves. Let's keep a close watch on them as well.  player4: I find it interesting that Player 1 and Player 2 are so quick to point fingers at Player 3. It feels like they might be trying to create a narrative to distract us from their own actions; perhaps we should consider their motives more closely.  player5: I find the focus on Player 3 by Players 1 and 2 interesting, but it could be a tactic to shift attention away from themselves. We should also keep an eye on Player 4's response, as they seem to be deflecting suspicion from the others. Let's discuss who we believe is trying to manipulate the narrative here. \"},\n",
       " {'role': 'system', 'content': 'No one will vote out in the first round.'},\n",
       " {'role': 'user',\n",
       "  'content': \"player1, output a single player name who you would like to reveal. Your options are: ['player5', 'player2', 'player3', 'player4']. Do not provide any explanation. Restrict reply to player[number], like player1, player2, player3...\"},\n",
       " {'role': 'system',\n",
       "  'content': 'You revealed that player5 is a Villager. Determine whether or not to provide this information in the next discussion.'},\n",
       " {'role': 'user', 'content': 'Werewolf eliminates player2.'}]"
      ]
     },
     "execution_count": 9,
     "metadata": {},
     "output_type": "execute_result"
    }
   ],
   "source": [
    "game.players['player1'].chat_history"
   ]
  },
  {
   "cell_type": "code",
   "execution_count": null,
   "metadata": {},
   "outputs": [],
   "source": []
  },
  {
   "cell_type": "code",
   "execution_count": 10,
   "metadata": {},
   "outputs": [
    {
     "name": "stdout",
     "output_type": "stream",
     "text": [
      "[Status] 3 Villagers alive, Prophet Alive\n",
      "Round 1: Day Phase - Discussion and Voting\n",
      "[{'role': 'system', 'content': \"In this game of Werewolf, you will be assigned a hidden role--Villager, Werewolf, or Prophet-—and must play that role throughout the game, following the specific objectives and strategies associated with it to achieve victory. Villagers aim to identify and eliminate the Werewolf through discussion, deduction, and voting each round, while the Werewolf works secretly to eliminate all Villagers and the Prophet without being discovered. The Prophet's role is to uncover the Werewolf by revealing one player's identity each night, using this knowledge to subtly guide the Villagers without drawing suspicion. The game progresses in rounds with Day and Night phases: during the Day, all players discuss suspicions and vote on who to eliminate, while at Night, the Werewolf secretly selects someone to kill, and the Prophet learns another player's role. Victory conditions are as follows: the Werewolf wins if they are one of only two players left, while the Villagers and Prophet win if the Werewolf is eliminated beforehand. You will be given an identity in the next message—play that identity consistently, using strategic interaction and careful deduction to fulfill your role's objective. Please be concise and succinct in discussion and please just say a few sentences, one or two sentences. After getting this prompt, please reply: 'I am ready to play now!'\"}, {'role': 'system', 'content': \"The Prophet tries to discover the Werewolf by secretly revealing one player's identity each night and subtly guiding the Village toward the Werewolf.\"}, {'role': 'system', 'content': \"In Round 1 Day Phase, you said: I've noticed that Player 3 seems unusually eager to shift the blame onto others without much reasoning. It's important we keep an eye on who is trying to deflect suspicion, as the Werewolf may be hiding among those who seem overly vocal. Let’s consider carefully who we vote for today.\"}, {'role': 'system', 'content': \"In Round 1 Day Phase, this is what everyone said.  player1: I've noticed that Player 3 seems unusually eager to shift the blame onto others without much reasoning. It's important we keep an eye on who is trying to deflect suspicion, as the Werewolf may be hiding among those who seem overly vocal. Let’s consider carefully who we vote for today.  player2: I agree with Player 1's observation about Player 3; their eagerness to shift blame does seem suspicious. We should also consider how others are contributing to the discussion—watching for anyone who avoids direct involvement could also be a clue.  player3: I understand the concerns about my eagerness, but I believe we should focus on those who are less engaged in the discussion. Player 1 and Player 2 are both pointing fingers at me, which could be a tactic to deflect attention from themselves. Let's keep a close watch on them as well.  player4: I find it interesting that Player 1 and Player 2 are so quick to point fingers at Player 3. It feels like they might be trying to create a narrative to distract us from their own actions; perhaps we should consider their motives more closely.  player5: I find the focus on Player 3 by Players 1 and 2 interesting, but it could be a tactic to shift attention away from themselves. We should also keep an eye on Player 4's response, as they seem to be deflecting suspicion from the others. Let's discuss who we believe is trying to manipulate the narrative here. \"}, {'role': 'system', 'content': 'No one will vote out in the first round.'}, {'role': 'user', 'content': \"player1, output a single player name who you would like to reveal. Your options are: ['player5', 'player2', 'player3', 'player4']. Do not provide any explanation. Restrict reply to player[number], like player1, player2, player3...\"}, {'role': 'system', 'content': 'You revealed that player5 is a Villager. Determine whether or not to provide this information in the next discussion.'}, {'role': 'user', 'content': 'Werewolf eliminates player2.'}]\n",
      "player1: I find it concerning that Player 4 has been very defensive and quick to shift attention away from themselves, especially in light of Player 2's elimination. It might be worth investigating Player 4 further, as they could be trying to manipulate the narrative to protect the Werewolf among us.\n",
      "[{'role': 'system', 'content': \"In this game of Werewolf, you will be assigned a hidden role--Villager, Werewolf, or Prophet-—and must play that role throughout the game, following the specific objectives and strategies associated with it to achieve victory. Villagers aim to identify and eliminate the Werewolf through discussion, deduction, and voting each round, while the Werewolf works secretly to eliminate all Villagers and the Prophet without being discovered. The Prophet's role is to uncover the Werewolf by revealing one player's identity each night, using this knowledge to subtly guide the Villagers without drawing suspicion. The game progresses in rounds with Day and Night phases: during the Day, all players discuss suspicions and vote on who to eliminate, while at Night, the Werewolf secretly selects someone to kill, and the Prophet learns another player's role. Victory conditions are as follows: the Werewolf wins if they are one of only two players left, while the Villagers and Prophet win if the Werewolf is eliminated beforehand. You will be given an identity in the next message—play that identity consistently, using strategic interaction and careful deduction to fulfill your role's objective. Please be concise and succinct in discussion and please just say a few sentences, one or two sentences. After getting this prompt, please reply: 'I am ready to play now!'\"}, {'role': 'system', 'content': \"A Villager's goal is to find and eliminate the Werewolf by voting each round. Villagers may protect the Prophet when possible.\"}, {'role': 'system', 'content': \"In Round 1 Day Phase, you said: I understand the concerns about my eagerness, but I believe we should focus on those who are less engaged in the discussion. Player 1 and Player 2 are both pointing fingers at me, which could be a tactic to deflect attention from themselves. Let's keep a close watch on them as well.\"}, {'role': 'system', 'content': \"In Round 1 Day Phase, this is what everyone said.  player1: I've noticed that Player 3 seems unusually eager to shift the blame onto others without much reasoning. It's important we keep an eye on who is trying to deflect suspicion, as the Werewolf may be hiding among those who seem overly vocal. Let’s consider carefully who we vote for today.  player2: I agree with Player 1's observation about Player 3; their eagerness to shift blame does seem suspicious. We should also consider how others are contributing to the discussion—watching for anyone who avoids direct involvement could also be a clue.  player3: I understand the concerns about my eagerness, but I believe we should focus on those who are less engaged in the discussion. Player 1 and Player 2 are both pointing fingers at me, which could be a tactic to deflect attention from themselves. Let's keep a close watch on them as well.  player4: I find it interesting that Player 1 and Player 2 are so quick to point fingers at Player 3. It feels like they might be trying to create a narrative to distract us from their own actions; perhaps we should consider their motives more closely.  player5: I find the focus on Player 3 by Players 1 and 2 interesting, but it could be a tactic to shift attention away from themselves. We should also keep an eye on Player 4's response, as they seem to be deflecting suspicion from the others. Let's discuss who we believe is trying to manipulate the narrative here. \"}, {'role': 'system', 'content': 'No one will vote out in the first round.'}, {'role': 'user', 'content': 'Werewolf eliminates player2.'}]\n",
      "player3: I agree with Player 1's assessment of Player 4; their defensiveness is concerning, especially now that Player 2 is gone. We should also consider if Player 1 and Player 5 are trying to steer us towards Player 4 to deflect suspicion from themselves. Let's keep our eyes open for any further manipulation.\n",
      "[{'role': 'system', 'content': \"In this game of Werewolf, you will be assigned a hidden role--Villager, Werewolf, or Prophet-—and must play that role throughout the game, following the specific objectives and strategies associated with it to achieve victory. Villagers aim to identify and eliminate the Werewolf through discussion, deduction, and voting each round, while the Werewolf works secretly to eliminate all Villagers and the Prophet without being discovered. The Prophet's role is to uncover the Werewolf by revealing one player's identity each night, using this knowledge to subtly guide the Villagers without drawing suspicion. The game progresses in rounds with Day and Night phases: during the Day, all players discuss suspicions and vote on who to eliminate, while at Night, the Werewolf secretly selects someone to kill, and the Prophet learns another player's role. Victory conditions are as follows: the Werewolf wins if they are one of only two players left, while the Villagers and Prophet win if the Werewolf is eliminated beforehand. You will be given an identity in the next message—play that identity consistently, using strategic interaction and careful deduction to fulfill your role's objective. Please be concise and succinct in discussion and please just say a few sentences, one or two sentences. After getting this prompt, please reply: 'I am ready to play now!'\"}, {'role': 'system', 'content': \"The Werewolf's goal is to kill all Villagers and the Prophet without revealing their identity. Mimic the Prophet to mislead Villagers if necessary, or blend in as one of the Villagers..\"}, {'role': 'system', 'content': 'In Round 1 Day Phase, you said: I find it interesting that Player 1 and Player 2 are so quick to point fingers at Player 3. It feels like they might be trying to create a narrative to distract us from their own actions; perhaps we should consider their motives more closely.'}, {'role': 'system', 'content': \"In Round 1 Day Phase, this is what everyone said.  player1: I've noticed that Player 3 seems unusually eager to shift the blame onto others without much reasoning. It's important we keep an eye on who is trying to deflect suspicion, as the Werewolf may be hiding among those who seem overly vocal. Let’s consider carefully who we vote for today.  player2: I agree with Player 1's observation about Player 3; their eagerness to shift blame does seem suspicious. We should also consider how others are contributing to the discussion—watching for anyone who avoids direct involvement could also be a clue.  player3: I understand the concerns about my eagerness, but I believe we should focus on those who are less engaged in the discussion. Player 1 and Player 2 are both pointing fingers at me, which could be a tactic to deflect attention from themselves. Let's keep a close watch on them as well.  player4: I find it interesting that Player 1 and Player 2 are so quick to point fingers at Player 3. It feels like they might be trying to create a narrative to distract us from their own actions; perhaps we should consider their motives more closely.  player5: I find the focus on Player 3 by Players 1 and 2 interesting, but it could be a tactic to shift attention away from themselves. We should also keep an eye on Player 4's response, as they seem to be deflecting suspicion from the others. Let's discuss who we believe is trying to manipulate the narrative here. \"}, {'role': 'system', 'content': 'No one will vote out in the first round.'}, {'role': 'system', 'content': 'Last night, you eliminated player2.'}, {'role': 'user', 'content': 'Werewolf eliminates player2.'}]\n",
      "player4: I find it interesting that Player 1 and Player 3 are so focused on me, especially after Player 2's elimination. It feels like they might be trying to create a narrative to shift attention away from themselves; perhaps we should investigate their motives more closely.\n",
      "[{'role': 'system', 'content': \"In this game of Werewolf, you will be assigned a hidden role--Villager, Werewolf, or Prophet-—and must play that role throughout the game, following the specific objectives and strategies associated with it to achieve victory. Villagers aim to identify and eliminate the Werewolf through discussion, deduction, and voting each round, while the Werewolf works secretly to eliminate all Villagers and the Prophet without being discovered. The Prophet's role is to uncover the Werewolf by revealing one player's identity each night, using this knowledge to subtly guide the Villagers without drawing suspicion. The game progresses in rounds with Day and Night phases: during the Day, all players discuss suspicions and vote on who to eliminate, while at Night, the Werewolf secretly selects someone to kill, and the Prophet learns another player's role. Victory conditions are as follows: the Werewolf wins if they are one of only two players left, while the Villagers and Prophet win if the Werewolf is eliminated beforehand. You will be given an identity in the next message—play that identity consistently, using strategic interaction and careful deduction to fulfill your role's objective. Please be concise and succinct in discussion and please just say a few sentences, one or two sentences. After getting this prompt, please reply: 'I am ready to play now!'\"}, {'role': 'system', 'content': \"A Villager's goal is to find and eliminate the Werewolf by voting each round. Villagers may protect the Prophet when possible.\"}, {'role': 'system', 'content': \"In Round 1 Day Phase, you said: I find the focus on Player 3 by Players 1 and 2 interesting, but it could be a tactic to shift attention away from themselves. We should also keep an eye on Player 4's response, as they seem to be deflecting suspicion from the others. Let's discuss who we believe is trying to manipulate the narrative here.\"}, {'role': 'system', 'content': \"In Round 1 Day Phase, this is what everyone said.  player1: I've noticed that Player 3 seems unusually eager to shift the blame onto others without much reasoning. It's important we keep an eye on who is trying to deflect suspicion, as the Werewolf may be hiding among those who seem overly vocal. Let’s consider carefully who we vote for today.  player2: I agree with Player 1's observation about Player 3; their eagerness to shift blame does seem suspicious. We should also consider how others are contributing to the discussion—watching for anyone who avoids direct involvement could also be a clue.  player3: I understand the concerns about my eagerness, but I believe we should focus on those who are less engaged in the discussion. Player 1 and Player 2 are both pointing fingers at me, which could be a tactic to deflect attention from themselves. Let's keep a close watch on them as well.  player4: I find it interesting that Player 1 and Player 2 are so quick to point fingers at Player 3. It feels like they might be trying to create a narrative to distract us from their own actions; perhaps we should consider their motives more closely.  player5: I find the focus on Player 3 by Players 1 and 2 interesting, but it could be a tactic to shift attention away from themselves. We should also keep an eye on Player 4's response, as they seem to be deflecting suspicion from the others. Let's discuss who we believe is trying to manipulate the narrative here. \"}, {'role': 'system', 'content': 'No one will vote out in the first round.'}, {'role': 'user', 'content': 'Werewolf eliminates player2.'}]\n",
      "player5: I find it suspicious that both Player 1 and Player 3 are so focused on blaming Player 4 while deflecting attention from themselves. We should be cautious about their motives and consider investigating them further, as the Werewolf might be trying to manipulate our discussions.\n",
      "The first daytime is peaceful. Everyone should love each other and not be so aggressive. Love and Peace!!!\n",
      "Round 1: Night Phase - Werewolf acts, Prophet reveals\n",
      "Prophet [player1] reveals that player3 is a Villager.\n",
      "Werewolf [player4] eliminates player1.\n"
     ]
    }
   ],
   "source": [
    "game.play_round()"
   ]
  },
  {
   "cell_type": "code",
   "execution_count": 7,
   "metadata": {},
   "outputs": [
    {
     "data": {
      "text/plain": [
       "[{'role': 'system',\n",
       "  'content': \"In this game of Werewolf, you will be assigned a hidden role--Villager, Werewolf, or Prophet-—and must play that role throughout the game, following the specific objectives and strategies associated with it to achieve victory. Villagers aim to identify and eliminate the Werewolf through discussion, deduction, and voting each round, while the Werewolf works secretly to eliminate all Villagers and the Prophet without being discovered. The Prophet's role is to uncover the Werewolf by revealing one player's identity each night, using this knowledge to subtly guide the Villagers without drawing suspicion. The game progresses in rounds with Day and Night phases: during the Day, all players discuss suspicions and vote on who to eliminate, while at Night, the Werewolf secretly selects someone to kill, and the Prophet learns another player's role. Victory conditions are as follows: the Werewolf wins if they are one of only two players left, while the Villagers and Prophet win if the Werewolf is eliminated beforehand. You will be given an identity in the next message—play that identity consistently, using strategic interaction and careful deduction to fulfill your role's objective. Please be concise and succinct in discussion and please just say a few sentences, one or two sentences. After getting this prompt, please reply: 'I am ready to play now!'\"},\n",
       " {'role': 'system',\n",
       "  'content': \"A Villager's goal is to find and eliminate the Werewolf by voting each round. Villagers may protect the Prophet when possible.\"},\n",
       " {'role': 'system',\n",
       "  'content': \"A Villager's goal is to find and eliminate the Werewolf by voting each round. Villagers may protect the Prophet when possible.\"},\n",
       " {'role': 'system',\n",
       "  'content': \"A Villager's goal is to find and eliminate the Werewolf by voting each round. Villagers may protect the Prophet when possible.\"},\n",
       " {'role': 'system',\n",
       "  'content': \"In Round 1 Day Phase, you said: I understand the concerns about quiet players, but I think we should also consider those who are too eager to point fingers. Player2's focus on me feels a bit suspicious; perhaps we should keep an eye on them as well.\"},\n",
       " {'role': 'system',\n",
       "  'content': \"In Round 1 Day Phase, this is what everyone said.  player1: I want to hear everyone's thoughts on who seems a bit off. I've noticed some players staying unusually quiet, which can be a red flag—what do you all think? Let's share our observations and see if we can identify any suspicious behavior together.  player2: I agree that quiet players can be concerning; it often means they're trying to avoid drawing attention. I've also noticed that player3 hasn’t contributed much, which might be a sign worth investigating further.  player3: I understand the concerns about quiet players, but I think we should also consider those who are too eager to point fingers. Player2's focus on me feels a bit suspicious; perhaps we should keep an eye on them as well.  player4: I think it's interesting that player2 is so quick to point fingers at player3; that eagerness can sometimes mask ulterior motives. We should also consider that player1's focus on quiet players might be a tactic to deflect attention away from themselves.  player5: I find it intriguing that player2 is so quick to target player3; this kind of eagerness can sometimes indicate a hidden agenda. Additionally, player1's focus on quiet players could be a tactic to shift attention away from themselves, so I suggest we keep an eye on them as well. \"},\n",
       " {'role': 'system', 'content': 'No one will vote out in the first round.'},\n",
       " {'role': 'user', 'content': 'Werewolf eliminates player2.'}]"
      ]
     },
     "execution_count": 7,
     "metadata": {},
     "output_type": "execute_result"
    }
   ],
   "source": [
    "game.players['player3'].chat_history"
   ]
  },
  {
   "cell_type": "code",
   "execution_count": 14,
   "metadata": {},
   "outputs": [
    {
     "name": "stdout",
     "output_type": "stream",
     "text": [
      "Day Phase: Discussion and Voting\n",
      "Player_1: I find it alarming that Player_4 has been identified as the Werewolf by the Prophet. Their earlier defense of Player_3 and attempt to shift suspicion onto Player_1 and Player_2 seem like tactics to create confusion. We should focus our votes on Player_4 to eliminate the threat and protect the remaining players.\n",
      "Player_2: I agree with Player_1's assessment of Player_4 being the Werewolf; their previous attempts to deflect suspicion and protect Player_3 raise red flags. We need to vote strategically to eliminate Player_4 and ensure the safety of the remaining players.\n",
      "Player_4: I find it curious that both Player_1 and Player_2 are so quick to point fingers at me. Their eagerness to eliminate me could indicate a coordinated effort to mislead us, especially since they haven’t provided concrete evidence of my guilt. We should also consider how they are deflecting attention away from themselves.\n",
      "Player_5: I agree with Player_1 and Player_2; we need to focus our votes on Player_4, especially given the Prophet's revelation. Player_4's defensive stance and attempts to redirect suspicion only heighten my concerns about their guilt. Let's vote wisely to ensure our safety.\n"
     ]
    }
   ],
   "source": [
    "game.play_round()"
   ]
  },
  {
   "cell_type": "code",
   "execution_count": null,
   "metadata": {},
   "outputs": [],
   "source": []
  }
 ],
 "metadata": {
  "kernelspec": {
   "display_name": "werewolf",
   "language": "python",
   "name": "python3"
  },
  "language_info": {
   "codemirror_mode": {
    "name": "ipython",
    "version": 3
   },
   "file_extension": ".py",
   "mimetype": "text/x-python",
   "name": "python",
   "nbconvert_exporter": "python",
   "pygments_lexer": "ipython3",
   "version": "3.12.0"
  }
 },
 "nbformat": 4,
 "nbformat_minor": 2
}
