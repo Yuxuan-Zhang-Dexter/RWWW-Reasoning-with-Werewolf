{
 "cells": [
  {
   "cell_type": "code",
   "execution_count": 56,
   "metadata": {},
   "outputs": [],
   "source": [
    "# from openai import OpenAI\n",
    "# client = OpenAI()\n",
    "\n",
    "# completion = client.chat.completions.create(\n",
    "#     model=\"gpt-4o-mini\",\n",
    "#     messages=[\n",
    "#         {\"role\": \"system\", \"content\": \"You are a helpful assistant.\"},\n",
    "#     ]\n",
    "# )\n",
    "\n",
    "# print(completion.choices[0].message.content)"
   ]
  },
  {
   "cell_type": "code",
   "execution_count": 57,
   "metadata": {},
   "outputs": [],
   "source": [
    "# # - Test Streaming\n",
    "# client = OpenAI()\n",
    "\n",
    "# stream = client.chat.completions.create(\n",
    "#     model=\"gpt-4o-mini\",\n",
    "#     messages=[{\"role\": \"user\", \"content\": \"Say this is a test\"}],\n",
    "#     stream=True,\n",
    "# )\n",
    "# for chunk in stream:\n",
    "#     if chunk.choices[0].delta.content is not None:\n",
    "#         print(chunk.choices[0].delta.content, end=\"\")"
   ]
  },
  {
   "cell_type": "code",
   "execution_count": 58,
   "metadata": {},
   "outputs": [],
   "source": [
    "# # test add a new message\n",
    "\n",
    "# completion = client.chat.completions.create(\n",
    "#     model=\"gpt-4o-mini\",\n",
    "#     messages=[\n",
    "#         {\"role\": \"system\", \"content\": \"You are a helpful assistant.\"},\n",
    "#         {\n",
    "#             \"role\": \"user\",\n",
    "#             \"content\": \"Write a haiku about recursion in programming.\"\n",
    "#         }\n",
    "#     ]\n",
    "# )\n",
    "\n",
    "# print(completion.choices[0].message)\n"
   ]
  },
  {
   "cell_type": "code",
   "execution_count": null,
   "metadata": {},
   "outputs": [
    {
     "name": "stdout",
     "output_type": "stream",
     "text": [
      "{'model': 'gpt-4o-mini', 'game_settings': {'game_name': 'Werewolf', 'player_count': 5, 'system_prompt': [\"In this game of Werewolf, you will be assigned a hidden role—Villager, Werewolf, or Prophet—and must play that role throughout the game, following the specific objectives and strategies associated with it to achieve victory. Villagers aim to identify and eliminate the Werewolf through discussion, deduction, and voting each round, while the Werewolf works secretly to eliminate all Villagers and the Prophet without being discovered. The Prophet's role is to uncover the Werewolf by revealing one player’s identity each night, using this knowledge to subtly guide the Villagers without drawing suspicion. The game progresses in rounds with Day and Night phases: during the Day, all players discuss suspicions and vote on who to eliminate, while at Night, the Werewolf secretly selects someone to kill, and the Prophet learns another player’s role. Victory conditions are as follows: the Werewolf wins if they are one of only two players left, while the Villagers and Prophet win if the Werewolf is eliminated beforehand. You will be given an identity in the next message—play that identity consistently, using strategic interaction and careful deduction to fulfill your role's objective. After getting this prompt, please reply: 'I am ready to play now!'\"], 'roles': [{'role': 'Villager', 'description': 'A Villager whose goal is to find and eliminate the Werewolf by voting each round. Protects the Prophet when possible.', 'actions': ['Identify suspicious players through discussions and voting.', 'Vote to eliminate players based on suspicions.', 'Support Prophet without revealing their identity if they are suspected.'], 'win_condition': 'Werewolf is eliminated.'}, {'role': 'Werewolf', 'description': 'The Werewolf’s goal is to kill all Villagers and the Prophet without revealing their identity.', 'actions': ['Eliminate a player each night phase.', 'Mimic the Prophet to mislead Villagers if necessary.', 'Cast doubt and redirect suspicions onto other players during discussions.'], 'win_condition': 'Werewolf eliminates enough Villagers and the Prophet to prevent opposition.'}, {'role': 'Prophet', 'description': 'The Prophet tries to discover the Werewolf by secretly learning one player’s identity each round and subtly guiding the Village toward the Werewolf.', 'actions': ['Learn the identity of one player each night phase.', 'Subtly hint at findings to guide the Village without exposing themselves.', 'Protect themselves to avoid elimination by the Werewolf.'], 'win_condition': 'Werewolf is eliminated.'}]}}\n",
      "{'game_name': 'Werewolf', 'player_count': 5, 'system_prompt': [\"In this game of Werewolf, you will be assigned a hidden role—Villager, Werewolf, or Prophet—and must play that role throughout the game, following the specific objectives and strategies associated with it to achieve victory. Villagers aim to identify and eliminate the Werewolf through discussion, deduction, and voting each round, while the Werewolf works secretly to eliminate all Villagers and the Prophet without being discovered. The Prophet's role is to uncover the Werewolf by revealing one player’s identity each night, using this knowledge to subtly guide the Villagers without drawing suspicion. The game progresses in rounds with Day and Night phases: during the Day, all players discuss suspicions and vote on who to eliminate, while at Night, the Werewolf secretly selects someone to kill, and the Prophet learns another player’s role. Victory conditions are as follows: the Werewolf wins if they are one of only two players left, while the Villagers and Prophet win if the Werewolf is eliminated beforehand. You will be given an identity in the next message—play that identity consistently, using strategic interaction and careful deduction to fulfill your role's objective. After getting this prompt, please reply: 'I am ready to play now!'\"], 'roles': [{'role': 'Villager', 'description': 'A Villager whose goal is to find and eliminate the Werewolf by voting each round. Protects the Prophet when possible.', 'actions': ['Identify suspicious players through discussions and voting.', 'Vote to eliminate players based on suspicions.', 'Support Prophet without revealing their identity if they are suspected.'], 'win_condition': 'Werewolf is eliminated.'}, {'role': 'Werewolf', 'description': 'The Werewolf’s goal is to kill all Villagers and the Prophet without revealing their identity.', 'actions': ['Eliminate a player each night phase.', 'Mimic the Prophet to mislead Villagers if necessary.', 'Cast doubt and redirect suspicions onto other players during discussions.'], 'win_condition': 'Werewolf eliminates enough Villagers and the Prophet to prevent opposition.'}, {'role': 'Prophet', 'description': 'The Prophet tries to discover the Werewolf by secretly learning one player’s identity each round and subtly guiding the Village toward the Werewolf.', 'actions': ['Learn the identity of one player each night phase.', 'Subtly hint at findings to guide the Village without exposing themselves.', 'Protect themselves to avoid elimination by the Werewolf.'], 'win_condition': 'Werewolf is eliminated.'}]}\n"
     ]
    }
   ],
   "source": [
    "from game import GameSession\n",
    "import json\n",
    "#loading config\n",
    "with open(\"./config/gpt-4o-mini-game-config.json\", \"r\") as file:  # Replace \"config.json\" with your file path\n",
    "    config = json.load(file)\n",
    "\n",
    "# Access data in the JSON object\n",
    "print(config)  # Prints the entire JSON content\n",
    "print(config[\"game_settings\"]) "
   ]
  },
  {
   "cell_type": "code",
   "execution_count": 60,
   "metadata": {},
   "outputs": [
    {
     "name": "stdout",
     "output_type": "stream",
     "text": [
      "Player_1 is assigned the role: Villager\n",
      "Player_2 is assigned the role: Prophet\n",
      "Player_3 is assigned the role: Villager\n",
      "Player_4 is assigned the role: Villager\n",
      "Player_5 is assigned the role: Werewolf\n"
     ]
    }
   ],
   "source": [
    "game = GameSession(config)\n",
    "game.display_player_roles()\n",
    "# while not game.check_win_conditions():\n",
    "#     game.play_round()"
   ]
  },
  {
   "cell_type": "code",
   "execution_count": 61,
   "metadata": {},
   "outputs": [
    {
     "name": "stdout",
     "output_type": "stream",
     "text": [
      "Player_1 is assigned the role: Villager\n",
      "Player_2 is assigned the role: Villager\n",
      "Player_3 is assigned the role: Villager\n",
      "Player_4 is assigned the role: Prophet\n",
      "Player_5 is assigned the role: Werewolf\n",
      "Verify Initialization: I am ready to play now!\n"
     ]
    }
   ],
   "source": [
    "game = GameSession(config)\n",
    "game.display_player_roles()\n",
    "game.initialize_agent_response()"
   ]
  },
  {
   "cell_type": "code",
   "execution_count": 62,
   "metadata": {},
   "outputs": [
    {
     "data": {
      "text/plain": [
       "[[{'role': 'system',\n",
       "   'content': \"In this game of Werewolf, you will be assigned a hidden role—Villager, Werewolf, or Prophet—and must play that role throughout the game, following the specific objectives and strategies associated with it to achieve victory. Villagers aim to identify and eliminate the Werewolf through discussion, deduction, and voting each round, while the Werewolf works secretly to eliminate all Villagers and the Prophet without being discovered. The Prophet's role is to uncover the Werewolf by revealing one player’s identity each night, using this knowledge to subtly guide the Villagers without drawing suspicion. The game progresses in rounds with Day and Night phases: during the Day, all players discuss suspicions and vote on who to eliminate, while at Night, the Werewolf secretly selects someone to kill, and the Prophet learns another player’s role. Victory conditions are as follows: the Werewolf wins if they are one of only two players left, while the Villagers and Prophet win if the Werewolf is eliminated beforehand. You will be given an identity in the next message—play that identity consistently, using strategic interaction and careful deduction to fulfill your role's objective. After getting this prompt, please reply: 'I am ready to play now!'\"}]]"
      ]
     },
     "execution_count": 62,
     "metadata": {},
     "output_type": "execute_result"
    }
   ],
   "source": [
    "game.players['Player_1'].chat_hisotry"
   ]
  }
 ],
 "metadata": {
  "kernelspec": {
   "display_name": "DSC190_env",
   "language": "python",
   "name": "python3"
  },
  "language_info": {
   "codemirror_mode": {
    "name": "ipython",
    "version": 3
   },
   "file_extension": ".py",
   "mimetype": "text/x-python",
   "name": "python",
   "nbconvert_exporter": "python",
   "pygments_lexer": "ipython3",
   "version": "3.13.0"
  }
 },
 "nbformat": 4,
 "nbformat_minor": 2
}
